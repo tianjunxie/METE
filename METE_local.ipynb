{
 "cells": [
  {
   "cell_type": "markdown",
   "metadata": {
    "id": "prqmQ5eId7C_"
   },
   "source": [
    "# METE"
   ]
  },
  {
   "cell_type": "markdown",
   "metadata": {
    "id": "_GgT_3vLeNQo"
   },
   "source": [
    "### 2023-2024\n",
    "### Corresponding author Tianjun Xie*\n",
    "### *txie@ncat.edu\n",
    "### Please cite paper:\n"
   ]
  },
  {
   "cell_type": "code",
   "execution_count": 1,
   "metadata": {
    "colab": {
     "base_uri": "https://localhost:8080/"
    },
    "executionInfo": {
     "elapsed": 13893,
     "status": "ok",
     "timestamp": 1707518968146,
     "user": {
      "displayName": "Tianjun Xie",
      "userId": "16461845611741950474"
     },
     "user_tz": 300
    },
    "id": "xRjsqdc6eReW",
    "outputId": "c143fa86-2e7a-4d0e-9235-3e018aa1d4d4"
   },
   "outputs": [
    {
     "name": "stdout",
     "output_type": "stream",
     "text": [
      "Requirement already satisfied: rdkit-pypi in /Users/tianjunxie/Tools/Anaconda3/lib/python3.11/site-packages (2022.9.5)\n",
      "Requirement already satisfied: numpy in /Users/tianjunxie/Tools/Anaconda3/lib/python3.11/site-packages (from rdkit-pypi) (1.24.3)\n",
      "Requirement already satisfied: Pillow in /Users/tianjunxie/Tools/Anaconda3/lib/python3.11/site-packages (from rdkit-pypi) (10.2.0)\n",
      "Note: you may need to restart the kernel to use updated packages.\n"
     ]
    }
   ],
   "source": [
    "%pip install rdkit-pypi"
   ]
  },
  {
   "cell_type": "code",
   "execution_count": 2,
   "metadata": {
    "executionInfo": {
     "elapsed": 197,
     "status": "ok",
     "timestamp": 1707518968341,
     "user": {
      "displayName": "Tianjun Xie",
      "userId": "16461845611741950474"
     },
     "user_tz": 300
    },
    "id": "eRAP_hKTecc7"
   },
   "outputs": [],
   "source": [
    "from rdkit import Chem\n",
    "from IPython.display import display\n",
    "from rdkit.Chem import Draw\n",
    "from rdkit.Chem.Draw import IPythonConsole\n",
    "# from rdkit.Chem import Descriptors"
   ]
  },
  {
   "cell_type": "markdown",
   "metadata": {
    "id": "hulNyr1MegBV"
   },
   "source": [
    "## Input your SMILE string below"
   ]
  },
  {
   "cell_type": "code",
   "execution_count": 3,
   "metadata": {
    "executionInfo": {
     "elapsed": 149,
     "status": "ok",
     "timestamp": 1707519185052,
     "user": {
      "displayName": "Tianjun Xie",
      "userId": "16461845611741950474"
     },
     "user_tz": 300
    },
    "id": "apAAgXdzetHJ"
   },
   "outputs": [],
   "source": [
    "smiles = ['OC([Pt])([Pt])C[Pt]', 'CCC[Ir]CO','CC(C)C[Ru]']\n",
    "\n",
    "# smiles = ['OC([Pt])([Pt])C[Pt]']\n",
    "# smiles = ['[Ir]C([Ir])O[Ir]']"
   ]
  },
  {
   "cell_type": "markdown",
   "metadata": {
    "id": "1kKnIJKvy_Ag"
   },
   "source": [
    "# SMILES Preview"
   ]
  },
  {
   "cell_type": "code",
   "execution_count": 4,
   "metadata": {
    "colab": {
     "base_uri": "https://localhost:8080/",
     "height": 303
    },
    "executionInfo": {
     "elapsed": 148,
     "status": "ok",
     "timestamp": 1707519185970,
     "user": {
      "displayName": "Tianjun Xie",
      "userId": "16461845611741950474"
     },
     "user_tz": 300
    },
    "id": "prxH4tTWy9mn",
    "outputId": "db9aa9c7-1efc-43d1-e8ab-db66ed06cffc"
   },
   "outputs": [
    {
     "name": "stdout",
     "output_type": "stream",
     "text": [
      "Visualization of molecule ['OC([Pt])([Pt])C[Pt]', 'CCC[Ir]CO', 'CC(C)C[Ru]'] \n",
      "\n"
     ]
    },
    {
     "data": {
      "image/png": "[encoded data removed]",
      "text/plain": [
       "<IPython.core.display.Image object>"
      ]
     },
     "execution_count": 4,
     "metadata": {},
     "output_type": "execute_result"
    }
   ],
   "source": [
    "mols = [Chem.MolFromSmiles(smi) for smi in smiles]\n",
    "print('Visualization of molecule {}'.format(smiles), '\\n')\n",
    "\n",
    "Draw.MolsToGridImage(mols, molsPerRow=2, subImgSize=(250,250), legends=smiles)"
   ]
  },
  {
   "cell_type": "markdown",
   "metadata": {
    "id": "ytQhrRzurjTF"
   },
   "source": [
    "# Themorchemistry Estimation by METE"
   ]
  },
  {
   "cell_type": "code",
   "execution_count": 5,
   "metadata": {
    "executionInfo": {
     "elapsed": 2,
     "status": "ok",
     "timestamp": 1707519188309,
     "user": {
      "displayName": "Tianjun Xie",
      "userId": "16461845611741950474"
     },
     "user_tz": 300
    },
    "id": "IiKLpuZULOw7"
   },
   "outputs": [],
   "source": [
    "# Append the directory to your python path using sys\n",
    "import sys\n",
    "sys.path.append('./funcs')\n",
    "import main"
   ]
  },
  {
   "cell_type": "code",
   "execution_count": 6,
   "metadata": {
    "colab": {
     "base_uri": "https://localhost:8080/"
    },
    "executionInfo": {
     "elapsed": 120,
     "status": "ok",
     "timestamp": 1707519189323,
     "user": {
      "displayName": "Tianjun Xie",
      "userId": "16461845611741950474"
     },
     "user_tz": 300
    },
    "id": "J4Oib7NAO7Be",
    "outputId": "91ce7527-f6f8-47d1-e1b8-40cd75fbb040"
   },
   "outputs": [
    {
     "name": "stdout",
     "output_type": "stream",
     "text": [
      "OUTPUT: Hf298, S298, Cp[100-1500K]\n",
      "\n",
      "OC([Pt])([Pt])C[Pt] -64.33 15.89 5.98 11.23 15.51 19.03 21.79 23.92 25.61 27.0 28.17 29.17 30.03 30.79 31.44 32.02 32.52\n",
      "CCC[Ir]CO 64.5 25.19 9.85 17.89 25.66 33.28 39.87 45.34 49.9 53.75 57.02 59.83 62.24 64.31 66.09 67.63 68.97\n",
      "CC(C)C[Ru] -46.77 24.64 9.73 17.72 24.72 31.61 37.73 42.92 47.31 51.03 54.21 56.94 59.28 61.29 63.02 64.51 65.81\n"
     ]
    }
   ],
   "source": [
    "main.predict(smiles,verbose=False)"
   ]
  },
  {
   "cell_type": "code",
   "execution_count": 7,
   "metadata": {
    "executionInfo": {
     "elapsed": 3,
     "status": "ok",
     "timestamp": 1707518991651,
     "user": {
      "displayName": "Tianjun Xie",
      "userId": "16461845611741950474"
     },
     "user_tz": 300
    },
    "id": "BSSxHPF_uVgm"
   },
   "outputs": [],
   "source": [
    "# import plotting"
   ]
  },
  {
   "cell_type": "code",
   "execution_count": 8,
   "metadata": {
    "executionInfo": {
     "elapsed": 3,
     "status": "ok",
     "timestamp": 1707518991855,
     "user": {
      "displayName": "Tianjun Xie",
      "userId": "16461845611741950474"
     },
     "user_tz": 300
    },
    "id": "Wgqelsm7SX6N"
   },
   "outputs": [],
   "source": [
    "# A =  24.99735\n",
    "# B =  55.18696\n",
    "# C = -33.69137\n",
    "# D =  7.948387\n",
    "# E = -0.136638\n",
    "# F = -403.6075\n",
    "# G =  228.2431\n",
    "# H = -393.5224\n",
    "\n",
    "# def Cp(T):\n",
    "#     t = T / 1000\n",
    "#     return A + B*t + C*t**2 + D*t**3 + E / t**2\n",
    "\n",
    "# # Define the function- NASA 9\n",
    "# def custom_function(x):\n",
    "#     a0 = -173325.23306\n",
    "#     a1 = 3861.8333912999997\n",
    "#     a2 = -25.272258364\n",
    "#     a3 = 0.16347287100000002\n",
    "#     a4 = -0.0001603\n",
    "#     a5 = 8.07e-08\n",
    "#     a6 = -1.628e-11\n",
    "#     return a0 * x**(-2) + a1 * x**(-1) + a2 + a3 * x + a4 * x**2 + a5 * x**3 + a6 * x**4\n",
    "\n",
    "# from scipy.integrate import quad\n",
    "\n",
    "# dH, _ = quad(Cp, 300, 600)\n",
    "# print(f'The change in enthalpy is {dH / 1000:1.3f} kJ/mol')\n",
    "\n",
    "\n",
    "\n",
    "# dH1, _ = quad(custom_function, 300, 600)\n",
    "# print(f'The change in enthalpy is {dH1 /1000 :1.3f} kJ/mol')\n",
    "\n",
    "\n",
    "# https://kitchingroup.cheme.cmu.edu/blog/2018/09/05/Integration-of-the-heat-capacity/"
   ]
  }
 ],
 "metadata": {
  "colab": {
   "authorship_tag": "ABX9TyOJlVQlRrOV+0Oe/Dm5/e22",
   "provenance": []
  },
  "kernelspec": {
   "display_name": "Python 3 (ipykernel)",
   "language": "python",
   "name": "python3"
  },
  "language_info": {
   "codemirror_mode": {
    "name": "ipython",
    "version": 3
   },
   "file_extension": ".py",
   "mimetype": "text/x-python",
   "name": "python",
   "nbconvert_exporter": "python",
   "pygments_lexer": "ipython3",
   "version": "3.11.5"
  }
 },
 "nbformat": 4,
 "nbformat_minor": 1
}
